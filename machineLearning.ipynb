{
 "cells": [
  {
   "cell_type": "code",
   "execution_count": null,
   "id": "ce6a557a",
   "metadata": {},
   "outputs": [],
   "source": [
    "# import pandas\n",
    "# pandas.__version__\n",
    "import pandas as pd\n",
    "df = pd.read_csv('vgsales.csv')\n",
    "df\n",
    "df.shape\n",
    "df.describe()\n",
    "df.values"
   ]
  }
 ],
 "metadata": {
  "kernelspec": {
   "display_name": "Python 3 (ipykernel)",
   "language": "python",
   "name": "python3"
  },
  "language_info": {
   "codemirror_mode": {
    "name": "ipython",
    "version": 3
   },
   "file_extension": ".py",
   "mimetype": "text/x-python",
   "name": "python",
   "nbconvert_exporter": "python",
   "pygments_lexer": "ipython3",
   "version": "3.10.4"
  }
 },
 "nbformat": 4,
 "nbformat_minor": 5
}
